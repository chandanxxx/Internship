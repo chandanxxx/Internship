{
 "cells": [
  {
   "cell_type": "code",
   "execution_count": 39,
   "id": "00bf6a33",
   "metadata": {},
   "outputs": [],
   "source": [
    "# Q1 -  Python program to display all the header tags fromwikipedia.org. \n",
    "\n",
    "import requests\n",
    "from bs4 import BeautifulSoup"
   ]
  },
  {
   "cell_type": "code",
   "execution_count": 16,
   "id": "d1a0afa8",
   "metadata": {},
   "outputs": [],
   "source": [
    "url_link = 'https://en.wikipedia.org'"
   ]
  },
  {
   "cell_type": "code",
   "execution_count": 18,
   "id": "da3265a8",
   "metadata": {},
   "outputs": [],
   "source": [
    "request = requests.get(url_link)"
   ]
  },
  {
   "cell_type": "code",
   "execution_count": 19,
   "id": "be3a91b9",
   "metadata": {},
   "outputs": [],
   "source": [
    "Soup = BeautifulSoup(request.text, 'lxml')"
   ]
  },
  {
   "cell_type": "code",
   "execution_count": 20,
   "id": "3f2f1c0d",
   "metadata": {},
   "outputs": [
    {
     "name": "stdout",
     "output_type": "stream",
     "text": [
      "h1 -> Main Page\n",
      "h2 -> From today's featured article\n",
      "h2 -> Did you know ...\n",
      "h2 -> In the news\n",
      "h2 -> On this day\n",
      "h2 -> Today's featured picture\n",
      "h2 -> Other areas of Wikipedia\n",
      "h2 -> Wikipedia's sister projects\n",
      "h2 -> Wikipedia languages\n",
      "h2 -> Navigation menu\n",
      "h3 -> Personal tools\n",
      "h3 -> Namespaces\n",
      "h3 -> Variants\n",
      "expanded\n",
      "collapsed\n",
      "h3 -> Views\n",
      "h3 -> More\n",
      "expanded\n",
      "collapsed\n",
      "h3 -> Search\n",
      "h3 -> Navigation\n",
      "h3 -> Contribute\n",
      "h3 -> Tools\n",
      "h3 -> Print/export\n",
      "h3 -> In other projects\n",
      "h3 -> Languages\n"
     ]
    }
   ],
   "source": [
    "heading_tags = [\"h1\", \"h2\", \"h3\"]\n",
    "for tags in Soup.find_all(heading_tags):\n",
    "    print(tags.name + ' -> ' + tags.text.strip())"
   ]
  },
  {
   "cell_type": "code",
   "execution_count": 80,
   "id": "5921db44",
   "metadata": {},
   "outputs": [],
   "source": [
    "#Q2 -  Python program to displayIMDB’s Top rated 100 movies’data (i.e.name, rating, year of release) and make data frame. \n",
    "\n",
    "import pandas as pd\n",
    "import requests \n",
    "from bs4 import BeautifulSoup\n",
    "import numpy as np\n"
   ]
  },
  {
   "cell_type": "code",
   "execution_count": 81,
   "id": "ab0f328e",
   "metadata": {},
   "outputs": [],
   "source": [
    "url = 'https://www.imdb.com/search/title/?count=100&groups=top_1000&sort=user_rating'"
   ]
  },
  {
   "cell_type": "code",
   "execution_count": 82,
   "id": "256e3a7e",
   "metadata": {},
   "outputs": [],
   "source": [
    "response = requests.get(url)"
   ]
  },
  {
   "cell_type": "code",
   "execution_count": 83,
   "id": "96bd1ab0",
   "metadata": {},
   "outputs": [],
   "source": [
    "soup = BeautifulSoup(response.content, 'html.parser')\n",
    "movie_name = []\n",
    "year = []\n",
    "rating = []"
   ]
  },
  {
   "cell_type": "code",
   "execution_count": 84,
   "id": "af98ef33",
   "metadata": {},
   "outputs": [],
   "source": [
    "movie_data = soup.findAll('div', attrs= {'class': 'lister-item mode-advanced'})\n",
    "for store in movie_data:\n",
    "    name = store.h3.a.text\n",
    "    movie_name.append(name)\n",
    "    \n",
    "    year_of_release = store.h3.find('span', class_ = 'lister-item-year text-muted unbold').text.replace('(', '').replace(')', '')\n",
    "    year.append(year_of_release)\n",
    "    \n",
    "    rate = store.find('div', class_ = 'inline-block ratings-imdb-rating').text.replace('\\n', '')\n",
    "    rating.append(rate)"
   ]
  },
  {
   "cell_type": "code",
   "execution_count": 85,
   "id": "2b72b4a4",
   "metadata": {},
   "outputs": [],
   "source": [
    "movie_DF = pd.DataFrame({'Name of movie': movie_name, 'Year of relase': year, 'Movie Rating': rating})"
   ]
  },
  {
   "cell_type": "code",
   "execution_count": 86,
   "id": "d9a53f90",
   "metadata": {
    "scrolled": true
   },
   "outputs": [
    {
     "data": {
      "text/html": [
       "<div>\n",
       "<style scoped>\n",
       "    .dataframe tbody tr th:only-of-type {\n",
       "        vertical-align: middle;\n",
       "    }\n",
       "\n",
       "    .dataframe tbody tr th {\n",
       "        vertical-align: top;\n",
       "    }\n",
       "\n",
       "    .dataframe thead th {\n",
       "        text-align: right;\n",
       "    }\n",
       "</style>\n",
       "<table border=\"1\" class=\"dataframe\">\n",
       "  <thead>\n",
       "    <tr style=\"text-align: right;\">\n",
       "      <th></th>\n",
       "      <th>Name of movie</th>\n",
       "      <th>Year of relase</th>\n",
       "      <th>Movie Rating</th>\n",
       "    </tr>\n",
       "  </thead>\n",
       "  <tbody>\n",
       "    <tr>\n",
       "      <th>0</th>\n",
       "      <td>Jai Bhim</td>\n",
       "      <td>2021</td>\n",
       "      <td>9.5</td>\n",
       "    </tr>\n",
       "    <tr>\n",
       "      <th>1</th>\n",
       "      <td>The Shawshank Redemption</td>\n",
       "      <td>1994</td>\n",
       "      <td>9.3</td>\n",
       "    </tr>\n",
       "    <tr>\n",
       "      <th>2</th>\n",
       "      <td>The Godfather</td>\n",
       "      <td>1972</td>\n",
       "      <td>9.2</td>\n",
       "    </tr>\n",
       "    <tr>\n",
       "      <th>3</th>\n",
       "      <td>Soorarai Pottru</td>\n",
       "      <td>2020</td>\n",
       "      <td>9.1</td>\n",
       "    </tr>\n",
       "    <tr>\n",
       "      <th>4</th>\n",
       "      <td>The Dark Knight</td>\n",
       "      <td>2008</td>\n",
       "      <td>9.0</td>\n",
       "    </tr>\n",
       "    <tr>\n",
       "      <th>5</th>\n",
       "      <td>The Godfather: Part II</td>\n",
       "      <td>1974</td>\n",
       "      <td>9.0</td>\n",
       "    </tr>\n",
       "    <tr>\n",
       "      <th>6</th>\n",
       "      <td>12 Angry Men</td>\n",
       "      <td>1957</td>\n",
       "      <td>9.0</td>\n",
       "    </tr>\n",
       "  </tbody>\n",
       "</table>\n",
       "</div>"
      ],
      "text/plain": [
       "              Name of movie Year of relase Movie Rating\n",
       "0                  Jai Bhim           2021          9.5\n",
       "1  The Shawshank Redemption           1994          9.3\n",
       "2             The Godfather           1972          9.2\n",
       "3           Soorarai Pottru           2020          9.1\n",
       "4           The Dark Knight           2008          9.0\n",
       "5    The Godfather: Part II           1974          9.0\n",
       "6              12 Angry Men           1957          9.0"
      ]
     },
     "execution_count": 86,
     "metadata": {},
     "output_type": "execute_result"
    }
   ],
   "source": [
    "movie_DF.head(7)"
   ]
  },
  {
   "cell_type": "code",
   "execution_count": 87,
   "id": "2cbfd1ff",
   "metadata": {},
   "outputs": [],
   "source": [
    "#Q3 -  Python program to display IMDB’s Top rated 100 Indian movies’data (i.e.name, rating, year of release) and make data frame.\n",
    "\n",
    "import pandas as pd\n",
    "import requests \n",
    "from bs4 import BeautifulSoup\n",
    "import numpy as np"
   ]
  },
  {
   "cell_type": "code",
   "execution_count": 88,
   "id": "0c575a87",
   "metadata": {},
   "outputs": [],
   "source": [
    "url = \"https://www.imdb.com/india/top-rated-indian-movies/\""
   ]
  },
  {
   "cell_type": "code",
   "execution_count": 89,
   "id": "f665c5d7",
   "metadata": {},
   "outputs": [
    {
     "data": {
      "text/plain": [
       "<Response [200]>"
      ]
     },
     "execution_count": 89,
     "metadata": {},
     "output_type": "execute_result"
    }
   ],
   "source": [
    "page = requests.get(url)\n",
    "page"
   ]
  },
  {
   "cell_type": "code",
   "execution_count": 90,
   "id": "359755bd",
   "metadata": {},
   "outputs": [],
   "source": [
    "soup = BeautifulSoup(page.content, 'html.parser')\n",
    "movie_name = []\n",
    "year = []\n",
    "rating = []"
   ]
  },
  {
   "cell_type": "code",
   "execution_count": 101,
   "id": "3058018c",
   "metadata": {},
   "outputs": [],
   "source": [
    "movie_data = soup.findAll('td', attrs= {'class': 'lister-list'})\n",
    "for store in movie_data:\n",
    "    name = store.h3.find('td', class_ = 'titleColunm').text.replace('(', '').replace(')', '')\n",
    "    movie_name.append(name)\n",
    "    \n",
    "    year_of_release = store.h3.find('span', class_ = 'secondaryInfo').text.replace('(', '').replace(')', '')\n",
    "    year.append(year_of_release)\n",
    "    \n",
    "    rate = store.find('td', class_ = 'ratingColumn imdbRating').text.replace('\\n', '')\n",
    "    rating.append(rate)"
   ]
  },
  {
   "cell_type": "code",
   "execution_count": 92,
   "id": "eeaaca7d",
   "metadata": {},
   "outputs": [],
   "source": [
    "movie_DF = pd.DataFrame({'Name of movie': movie_name, 'Year of relase': year, 'Movie Rating': rating})"
   ]
  },
  {
   "cell_type": "code",
   "execution_count": null,
   "id": "11dec9e7",
   "metadata": {},
   "outputs": [],
   "source": [
    "movie_DF.head(7)"
   ]
  },
  {
   "cell_type": "code",
   "execution_count": null,
   "id": "8c6de410",
   "metadata": {},
   "outputs": [],
   "source": []
  },
  {
   "cell_type": "code",
   "execution_count": null,
   "id": "28b5cff8",
   "metadata": {},
   "outputs": [],
   "source": [
    "# Q4& Q5 -  Python program to scrape cricket rankings from icc-cricket.com.\n",
    "\n",
    "# Top10 ODI teamsin men’s cricket along with the recordsformatches, pointsandrating. \n",
    "# Top10 ODI Batsmenin men along with the records oftheirteamand rating.\n",
    "# Top10 ODI bowlersalong with the records of theirteamand rating.\n",
    "# Top10 ODI teamsin women’s cricket along with therecords formatches, points andrating. \n",
    "# Top10 women’s ODIplayers along with the recordsof theirteam andrating.\n",
    "# Top10 women’s ODI all-rounderalong with the recordsof theirteam and rating.\n",
    "\n",
    "\n",
    "from bs4 import BeautifulSoup\n",
    "import requests\n",
    "\n",
    "\n",
    "def Menu():\n",
    "\tprint('\\n1. Men \\n2. Women\\n')\n",
    "\tgen=Gender()\n",
    "\tprint('\\n1. Team Rankings \\n2. Player Ranking\\n')\n",
    "\ttp=TeamOrPlayer()\n",
    "\t\n",
    "\tmode=''\n",
    "\tval=''\n",
    "\t\n",
    "\tif gen=='mens':\n",
    "\t\tprint('\\n1. Test\\n2. ODI\\n3. T20\\n')\n",
    "\t\tmode=Mode()\n",
    "\n",
    "\tif tp=='player-rankings':\n",
    "\t\tif mode=='':\n",
    "\t\t\tprint('\\n1. ODI\\n2. T20\\n')\n",
    "\t\t\tmode=Mode2()\n",
    "\t\tprint('\\n1. Batting\\n2. Bowling\\n3. All-Rounder\\n')\n",
    "\t\tval=Value()\n",
    "\t\n",
    "\treturn gen,tp,mode,val\n",
    "\n",
    "\n",
    "def Gender():\n",
    "\tgender=input('Enter your choice:')\n",
    "\tcode={'1':'mens','2':'womens'}\n",
    "\n",
    "\tif gender in code:\n",
    "\t\treturn code[gender]\n",
    "\t\n",
    "\telse:\n",
    "\t\tprint('\\nInvalid Input\\nTry Again\\n')\n",
    "\t\treturn Gender();\n",
    "\n",
    "\n",
    "def TeamOrPlayer():\n",
    "\tchoice=input('Enter your choice:')\n",
    "\ttp={'1':'team-rankings','2':'player-rankings'}\n",
    "\t\n",
    "\tif choice in tp:\n",
    "\t\treturn tp[choice]\n",
    "\t\n",
    "\telse:\n",
    "\t\tprint('\\nInvalid Input\\nTry Again\\n')\n",
    "\t\treturn TeamOrPlayer();\n",
    "\n",
    "\t\n",
    "def Mode():\n",
    "\tchoice=input('Enter your choice:')\n",
    "\tword={'1':'/test','2':'/odi','3':'/t20i'}\n",
    "\t\n",
    "\tif choice in word:\n",
    "\t\treturn word[choice]\n",
    "\t\n",
    "\telse:\n",
    "\t\tprint('\\nInvalid Input\\nTry Again\\n')\n",
    "\t\treturn Choice();\n",
    "\n",
    "\n",
    "def Mode2():\n",
    "\tchoice=input('Enter your choice:')\n",
    "\tword={'1':'/odi','2':'/t20i'}\n",
    "\t\n",
    "\tif choice in word:\n",
    "\t\treturn word[choice]\n",
    "\t\n",
    "\telse:\n",
    "\t\tprint('\\nInvalid Input\\nTry Again\\n')\n",
    "\t\treturn Choice();\n",
    "\n",
    "\n",
    "def Value():\n",
    "\tchoice=input('Enter your choice:')\n",
    "\tval={'1':'batting','2':'bowling','3':'all-rounder'}\n",
    "\t\n",
    "\tif choice in val:\n",
    "\t\treturn val[choice]\n",
    "\t\n",
    "\telse:\n",
    "\t\tprint('\\nInvalid Input\\nTry Again\\n')\n",
    "\t\treturn Value()\n",
    "\n",
    "\n",
    "def URL():\n",
    "\tgen,tp,mode,val=Menu()\n",
    "\turl='https://www.icc-cricket.com/rankings/'+gen+'/'+tp+mode+'/'+val\n",
    "\theader=gen.upper() +' ' +mode[1:].upper() + ' ' + val.upper()\n",
    "\tprint('\\n{:<15}  {:<30}\\n{:<15}  {:<30}'.format('',tp.upper(),'',header))\n",
    "\treturn url,tp\n",
    "\n",
    "\n",
    "def SOUP(url,tp):\n",
    "\ttry:\n",
    "\t\tres=requests.get(url)\n",
    "\t\tsoup=BeautifulSoup(res.text,'lxml')\n",
    "\t\ta= soup.find_all('tr',{'class':'table-body'})\n",
    "\t\tdata={}\n",
    "\t\t\t\n",
    "\t\tfor i in a :\n",
    "\t\t\tteam=[]\n",
    "\t\t\tname=''\n",
    "\t\t\trating=''\n",
    "\n",
    "\t\t\ttry:\n",
    "\t\t\t\trank=int(i.contents[1].text)\n",
    "\t\t\texcept:\n",
    "\t\t\t\tpass\n",
    "\t\t\t\n",
    "\t\t\ttry:\t\n",
    "\t\t\t\tname=i.contents[3].text.replace('\\n','')\n",
    "\t\t\t\tname=\" \".join(name.split())\n",
    "\t\t\t\tif rank==1 and tp=='player-rankings':\n",
    "\t\t\t\t\tname=name[0:-3]\n",
    "\t\t\texcept:\n",
    "\t\t\t\tpass\n",
    "\n",
    "\t\t\ttry:\n",
    "\t\t\t\trating=i.contents[9].text\n",
    "\t\t\texcept:\n",
    "\t\t\t\tif rank==1 :\n",
    "\t\t\t\t\trating=i.contents[5].text\n",
    "\t\t\t\telse:\n",
    "\t\t\t\t\trating=i.contents[7].text\n",
    "\t\t\t\n",
    "\t\t\tteam.extend([name,rating])\n",
    "\t\t\tdata[rank]=team\n",
    "\t\t\n",
    "\t\treturn data\n",
    "\n",
    "\texcept:\n",
    "\t\treturn SOUP(url,tp)\n",
    "\n",
    "\n",
    "def Print(data):\n",
    "\tprint('\\nRANKING \\t TEAM\\t\\t\\t\\tRATING')\n",
    "\tfor i in sorted(data):\n",
    "\t\tprint('{:<10}       '.format(i),end='')\n",
    "\t\tfor j in range(len(data[i])):\n",
    "\t\t\tprint('{:<26}'.format(data[i][j]),end='     ')\n",
    "\t\tprint()\n",
    "\n",
    "\n",
    "def main():\n",
    "\t\n",
    "\turl,tp=URL()\n",
    "\tdata=SOUP(url,tp)\n",
    "\tPrint(data)\t\n",
    "\n",
    "\n",
    "if __name__=='__main__':\n",
    "\tmain()"
   ]
  },
  {
   "cell_type": "code",
   "execution_count": null,
   "id": "d5296acd",
   "metadata": {},
   "outputs": [],
   "source": []
  }
 ],
 "metadata": {
  "kernelspec": {
   "display_name": "Python 3",
   "language": "python",
   "name": "python3"
  },
  "language_info": {
   "codemirror_mode": {
    "name": "ipython",
    "version": 3
   },
   "file_extension": ".py",
   "mimetype": "text/x-python",
   "name": "python",
   "nbconvert_exporter": "python",
   "pygments_lexer": "ipython3",
   "version": "3.8.8"
  }
 },
 "nbformat": 4,
 "nbformat_minor": 5
}
